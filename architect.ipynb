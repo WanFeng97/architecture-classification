{
 "cells": [
  {
   "cell_type": "code",
   "execution_count": 4,
   "metadata": {},
   "outputs": [
    {
     "name": "stdout",
     "output_type": "stream",
     "text": [
      "Results have been written to 'output.txt'.\n"
     ]
    }
   ],
   "source": [
    "import os\n",
    "\n",
    "def count_and_rank_items(root, output_file='output.txt'):\n",
    "    # This list will store details for ranking subfolders.\n",
    "    results = []\n",
    "    \n",
    "    with open(output_file, 'w', encoding='utf-8') as f:\n",
    "        # Count items in the main folder.\n",
    "        main_items = os.listdir(root)\n",
    "        f.write(f\"Main folder '{root}' contains {len(main_items)} items.\\n\")\n",
    "        \n",
    "        # Filter for subfolders in the main folder.\n",
    "        subfolders = [item for item in main_items if os.path.isdir(os.path.join(root, item))]\n",
    "        f.write(f\"Main folder '{root}' contains {len(subfolders)} subfolders.\\n\\n\")\n",
    "    \n",
    "        # Process each subfolder.\n",
    "        for sub in subfolders:\n",
    "            sub_path = os.path.join(root, sub)\n",
    "            sub_items = os.listdir(sub_path)\n",
    "            direct_count = len(sub_items)\n",
    "            \n",
    "            # Prepare a dictionary for ranking.\n",
    "            sub_result = {\n",
    "                'name': sub_path,\n",
    "                'direct_count': direct_count,\n",
    "                'subsub': []  # Will hold sub-subfolder details.\n",
    "            }\n",
    "            \n",
    "            f.write(f\"Subfolder '{sub_path}' contains {direct_count} items.\\n\")\n",
    "    \n",
    "            # Look for sub-subfolders.\n",
    "            subsubfolders = [item for item in sub_items if os.path.isdir(os.path.join(sub_path, item))]\n",
    "            f.write(f\"Subfolder '{sub_path}' contains {len(subsubfolders)} sub-subfolders.\\n\")\n",
    "            \n",
    "            # Process each sub-subfolder.\n",
    "            for subsub in subsubfolders:\n",
    "                subsub_path = os.path.join(sub_path, subsub)\n",
    "                subsub_items = os.listdir(subsub_path)\n",
    "                subsub_count = len(subsub_items)\n",
    "                sub_result['subsub'].append({'name': subsub_path, 'count': subsub_count})\n",
    "                f.write(f\"Sub-subfolder '{subsub_path}' contains {subsub_count} items.\\n\")\n",
    "    \n",
    "            f.write(\"-\" * 50 + \"\\n\")\n",
    "            results.append(sub_result)\n",
    "        \n",
    "        # Ranking subfolders by the direct count of items.\n",
    "        f.write(\"\\nRanking of subfolders by number of items (direct count):\\n\")\n",
    "        ranked_subfolders = sorted(results, key=lambda x: x['direct_count'], reverse=True)\n",
    "        for rank, item in enumerate(ranked_subfolders, 1):\n",
    "            f.write(f\"{rank}. {item['name']} - {item['direct_count']} items\\n\")\n",
    "        \n",
    "        # Ranking sub-subfolders within each subfolder.\n",
    "        f.write(\"\\nRanking of sub-subfolders within each subfolder by number of items:\\n\")\n",
    "        for sub_result in results:\n",
    "            if sub_result['subsub']:\n",
    "                ranked_subsub = sorted(sub_result['subsub'], key=lambda x: x['count'], reverse=True)\n",
    "                f.write(f\"\\nFor subfolder '{sub_result['name']}':\\n\")\n",
    "                for rank, subsub in enumerate(ranked_subsub, 1):\n",
    "                    f.write(f\"  {rank}. {subsub['name']} - {subsub['count']} items\\n\")\n",
    "    \n",
    "    print(f\"Results have been written to '{output_file}'.\")\n",
    "\n",
    "# Replace with the path to your folder.\n",
    "folder_path = \"D:/DeepArch/arcDataset_architect\"\n",
    "count_and_rank_items(folder_path)\n"
   ]
  },
  {
   "cell_type": "markdown",
   "metadata": {},
   "source": []
  }
 ],
 "metadata": {
  "kernelspec": {
   "display_name": "myenv",
   "language": "python",
   "name": "python3"
  },
  "language_info": {
   "codemirror_mode": {
    "name": "ipython",
    "version": 3
   },
   "file_extension": ".py",
   "mimetype": "text/x-python",
   "name": "python",
   "nbconvert_exporter": "python",
   "pygments_lexer": "ipython3",
   "version": "3.9.7"
  }
 },
 "nbformat": 4,
 "nbformat_minor": 2
}
